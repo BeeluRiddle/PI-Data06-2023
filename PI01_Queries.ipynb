{
 "cells": [
  {
   "attachments": {},
   "cell_type": "markdown",
   "metadata": {},
   "source": [
    "# Proyecto Individual #1"
   ]
  },
  {
   "attachments": {},
   "cell_type": "markdown",
   "metadata": {},
   "source": [
    "> Data06 - Zapata, María Belén"
   ]
  },
  {
   "attachments": {},
   "cell_type": "markdown",
   "metadata": {},
   "source": [
    "Queries"
   ]
  },
  {
   "attachments": {},
   "cell_type": "markdown",
   "metadata": {},
   "source": [
    "---"
   ]
  },
  {
   "attachments": {},
   "cell_type": "markdown",
   "metadata": {},
   "source": [
    "### Importo objetos relevantes:"
   ]
  },
  {
   "cell_type": "code",
   "execution_count": 4,
   "metadata": {},
   "outputs": [],
   "source": [
    "#Importo librerías\n",
    "from fastapi import FastAPI, HTTPException\n",
    "import pandas as pd\n",
    "from pandasql import sqldf"
   ]
  },
  {
   "cell_type": "code",
   "execution_count": 5,
   "metadata": {},
   "outputs": [],
   "source": [
    "#Cargo el dataset en una variable\n",
    "df = pd.read_csv(\"movies_completo.csv\")"
   ]
  },
  {
   "cell_type": "code",
   "execution_count": 6,
   "metadata": {},
   "outputs": [
    {
     "data": {
      "text/html": [
       "<div>\n",
       "<style scoped>\n",
       "    .dataframe tbody tr th:only-of-type {\n",
       "        vertical-align: middle;\n",
       "    }\n",
       "\n",
       "    .dataframe tbody tr th {\n",
       "        vertical-align: top;\n",
       "    }\n",
       "\n",
       "    .dataframe thead th {\n",
       "        text-align: right;\n",
       "    }\n",
       "</style>\n",
       "<table border=\"1\" class=\"dataframe\">\n",
       "  <thead>\n",
       "    <tr style=\"text-align: right;\">\n",
       "      <th></th>\n",
       "      <th>show_id</th>\n",
       "      <th>type</th>\n",
       "      <th>title</th>\n",
       "      <th>director</th>\n",
       "      <th>cast</th>\n",
       "      <th>country</th>\n",
       "      <th>date_added</th>\n",
       "      <th>release_year</th>\n",
       "      <th>rating</th>\n",
       "      <th>duration</th>\n",
       "      <th>listed_in</th>\n",
       "      <th>description</th>\n",
       "      <th>score</th>\n",
       "      <th>ID</th>\n",
       "      <th>duration_int</th>\n",
       "      <th>duration_type</th>\n",
       "    </tr>\n",
       "  </thead>\n",
       "  <tbody>\n",
       "    <tr>\n",
       "      <th>0</th>\n",
       "      <td>s1</td>\n",
       "      <td>movie</td>\n",
       "      <td>the grand seduction</td>\n",
       "      <td>don mckellar</td>\n",
       "      <td>brendan gleeson, taylor kitsch, gordon pinsent</td>\n",
       "      <td>canada</td>\n",
       "      <td>2021-03-30</td>\n",
       "      <td>2014</td>\n",
       "      <td>g</td>\n",
       "      <td>113 min</td>\n",
       "      <td>comedy, drama</td>\n",
       "      <td>a small fishing village must procure a local d...</td>\n",
       "      <td>99</td>\n",
       "      <td>as1</td>\n",
       "      <td>113.0</td>\n",
       "      <td>min</td>\n",
       "    </tr>\n",
       "    <tr>\n",
       "      <th>1</th>\n",
       "      <td>s2</td>\n",
       "      <td>movie</td>\n",
       "      <td>take care good night</td>\n",
       "      <td>girish joshi</td>\n",
       "      <td>mahesh manjrekar, abhay mahajan, sachin khedekar</td>\n",
       "      <td>india</td>\n",
       "      <td>2021-03-30</td>\n",
       "      <td>2018</td>\n",
       "      <td>13+</td>\n",
       "      <td>110 min</td>\n",
       "      <td>drama, international</td>\n",
       "      <td>a metro family decides to fight a cyber crimin...</td>\n",
       "      <td>37</td>\n",
       "      <td>as2</td>\n",
       "      <td>110.0</td>\n",
       "      <td>min</td>\n",
       "    </tr>\n",
       "    <tr>\n",
       "      <th>2</th>\n",
       "      <td>s3</td>\n",
       "      <td>movie</td>\n",
       "      <td>secrets of deception</td>\n",
       "      <td>josh webber</td>\n",
       "      <td>tom sizemore, lorenzo lamas, robert lasardo, r...</td>\n",
       "      <td>united states</td>\n",
       "      <td>2021-03-30</td>\n",
       "      <td>2017</td>\n",
       "      <td>g</td>\n",
       "      <td>74 min</td>\n",
       "      <td>action, drama, suspense</td>\n",
       "      <td>after a man discovers his wife is cheating on ...</td>\n",
       "      <td>20</td>\n",
       "      <td>as3</td>\n",
       "      <td>74.0</td>\n",
       "      <td>min</td>\n",
       "    </tr>\n",
       "    <tr>\n",
       "      <th>3</th>\n",
       "      <td>s4</td>\n",
       "      <td>movie</td>\n",
       "      <td>pink: staying true</td>\n",
       "      <td>sonia anderson</td>\n",
       "      <td>interviews with: pink, adele, beyoncé, britney...</td>\n",
       "      <td>united states</td>\n",
       "      <td>2021-03-30</td>\n",
       "      <td>2014</td>\n",
       "      <td>g</td>\n",
       "      <td>69 min</td>\n",
       "      <td>documentary</td>\n",
       "      <td>pink breaks the mold once again, bringing her ...</td>\n",
       "      <td>27</td>\n",
       "      <td>as4</td>\n",
       "      <td>69.0</td>\n",
       "      <td>min</td>\n",
       "    </tr>\n",
       "    <tr>\n",
       "      <th>4</th>\n",
       "      <td>s5</td>\n",
       "      <td>movie</td>\n",
       "      <td>monster maker</td>\n",
       "      <td>giles foster</td>\n",
       "      <td>harry dean stanton, kieran o'brien, george cos...</td>\n",
       "      <td>united kingdom</td>\n",
       "      <td>2021-03-30</td>\n",
       "      <td>1989</td>\n",
       "      <td>g</td>\n",
       "      <td>45 min</td>\n",
       "      <td>drama, fantasy</td>\n",
       "      <td>teenage matt banting wants to work with a famo...</td>\n",
       "      <td>75</td>\n",
       "      <td>as5</td>\n",
       "      <td>45.0</td>\n",
       "      <td>min</td>\n",
       "    </tr>\n",
       "    <tr>\n",
       "      <th>...</th>\n",
       "      <td>...</td>\n",
       "      <td>...</td>\n",
       "      <td>...</td>\n",
       "      <td>...</td>\n",
       "      <td>...</td>\n",
       "      <td>...</td>\n",
       "      <td>...</td>\n",
       "      <td>...</td>\n",
       "      <td>...</td>\n",
       "      <td>...</td>\n",
       "      <td>...</td>\n",
       "      <td>...</td>\n",
       "      <td>...</td>\n",
       "      <td>...</td>\n",
       "      <td>...</td>\n",
       "      <td>...</td>\n",
       "    </tr>\n",
       "    <tr>\n",
       "      <th>22993</th>\n",
       "      <td>s8803</td>\n",
       "      <td>movie</td>\n",
       "      <td>zodiac</td>\n",
       "      <td>david fincher</td>\n",
       "      <td>Mark Ruffalo, Jake Gyllenhaal, Robert Downey J...</td>\n",
       "      <td>united states</td>\n",
       "      <td>2019-11-20</td>\n",
       "      <td>2007</td>\n",
       "      <td>r</td>\n",
       "      <td>158 min</td>\n",
       "      <td>cult movies, dramas, thrillers</td>\n",
       "      <td>a political cartoonist, a crime reporter and a...</td>\n",
       "      <td>20</td>\n",
       "      <td>ns8803</td>\n",
       "      <td>158.0</td>\n",
       "      <td>min</td>\n",
       "    </tr>\n",
       "    <tr>\n",
       "      <th>22994</th>\n",
       "      <td>s8804</td>\n",
       "      <td>tv show</td>\n",
       "      <td>zombie dumb</td>\n",
       "      <td>NaN</td>\n",
       "      <td>NaN</td>\n",
       "      <td>NaN</td>\n",
       "      <td>2019-07-01</td>\n",
       "      <td>2018</td>\n",
       "      <td>tv-y7</td>\n",
       "      <td>2 seasons</td>\n",
       "      <td>kids' tv, korean tv shows, tv comedies</td>\n",
       "      <td>while living alone in a spooky town, a young g...</td>\n",
       "      <td>8</td>\n",
       "      <td>ns8804</td>\n",
       "      <td>2.0</td>\n",
       "      <td>season</td>\n",
       "    </tr>\n",
       "    <tr>\n",
       "      <th>22995</th>\n",
       "      <td>s8805</td>\n",
       "      <td>movie</td>\n",
       "      <td>zombieland</td>\n",
       "      <td>ruben fleischer</td>\n",
       "      <td>Jesse Eisenberg, Woody Harrelson, Emma Stone, ...</td>\n",
       "      <td>united states</td>\n",
       "      <td>2019-11-01</td>\n",
       "      <td>2009</td>\n",
       "      <td>r</td>\n",
       "      <td>88 min</td>\n",
       "      <td>comedies, horror movies</td>\n",
       "      <td>looking to survive in a world taken over by zo...</td>\n",
       "      <td>55</td>\n",
       "      <td>ns8805</td>\n",
       "      <td>88.0</td>\n",
       "      <td>min</td>\n",
       "    </tr>\n",
       "    <tr>\n",
       "      <th>22996</th>\n",
       "      <td>s8806</td>\n",
       "      <td>movie</td>\n",
       "      <td>zoom</td>\n",
       "      <td>peter hewitt</td>\n",
       "      <td>Tim Allen, Courteney Cox, Chevy Chase, Kate Ma...</td>\n",
       "      <td>united states</td>\n",
       "      <td>2020-01-11</td>\n",
       "      <td>2006</td>\n",
       "      <td>pg</td>\n",
       "      <td>88 min</td>\n",
       "      <td>children &amp; family movies, comedies</td>\n",
       "      <td>dragged from civilian life, a former superhero...</td>\n",
       "      <td>7</td>\n",
       "      <td>ns8806</td>\n",
       "      <td>88.0</td>\n",
       "      <td>min</td>\n",
       "    </tr>\n",
       "    <tr>\n",
       "      <th>22997</th>\n",
       "      <td>s8807</td>\n",
       "      <td>movie</td>\n",
       "      <td>zubaan</td>\n",
       "      <td>mozez singh</td>\n",
       "      <td>Vicky Kaushal, Sarah-Jane Dias, Raaghav Chanan...</td>\n",
       "      <td>india</td>\n",
       "      <td>2019-03-02</td>\n",
       "      <td>2015</td>\n",
       "      <td>tv-14</td>\n",
       "      <td>111 min</td>\n",
       "      <td>dramas, international movies, music &amp; musicals</td>\n",
       "      <td>a scrappy but poor boy worms his way into a ty...</td>\n",
       "      <td>44</td>\n",
       "      <td>ns8807</td>\n",
       "      <td>111.0</td>\n",
       "      <td>min</td>\n",
       "    </tr>\n",
       "  </tbody>\n",
       "</table>\n",
       "<p>22998 rows × 16 columns</p>\n",
       "</div>"
      ],
      "text/plain": [
       "      show_id     type                 title         director  \\\n",
       "0          s1    movie   the grand seduction     don mckellar   \n",
       "1          s2    movie  take care good night     girish joshi   \n",
       "2          s3    movie  secrets of deception      josh webber   \n",
       "3          s4    movie    pink: staying true   sonia anderson   \n",
       "4          s5    movie         monster maker     giles foster   \n",
       "...       ...      ...                   ...              ...   \n",
       "22993   s8803    movie                zodiac    david fincher   \n",
       "22994   s8804  tv show           zombie dumb              NaN   \n",
       "22995   s8805    movie            zombieland  ruben fleischer   \n",
       "22996   s8806    movie                  zoom     peter hewitt   \n",
       "22997   s8807    movie                zubaan      mozez singh   \n",
       "\n",
       "                                                    cast         country  \\\n",
       "0         brendan gleeson, taylor kitsch, gordon pinsent          canada   \n",
       "1       mahesh manjrekar, abhay mahajan, sachin khedekar           india   \n",
       "2      tom sizemore, lorenzo lamas, robert lasardo, r...   united states   \n",
       "3      interviews with: pink, adele, beyoncé, britney...   united states   \n",
       "4      harry dean stanton, kieran o'brien, george cos...  united kingdom   \n",
       "...                                                  ...             ...   \n",
       "22993  Mark Ruffalo, Jake Gyllenhaal, Robert Downey J...   united states   \n",
       "22994                                                NaN             NaN   \n",
       "22995  Jesse Eisenberg, Woody Harrelson, Emma Stone, ...   united states   \n",
       "22996  Tim Allen, Courteney Cox, Chevy Chase, Kate Ma...   united states   \n",
       "22997  Vicky Kaushal, Sarah-Jane Dias, Raaghav Chanan...           india   \n",
       "\n",
       "       date_added  release_year rating   duration  \\\n",
       "0      2021-03-30          2014      g    113 min   \n",
       "1      2021-03-30          2018    13+    110 min   \n",
       "2      2021-03-30          2017      g     74 min   \n",
       "3      2021-03-30          2014      g     69 min   \n",
       "4      2021-03-30          1989      g     45 min   \n",
       "...           ...           ...    ...        ...   \n",
       "22993  2019-11-20          2007      r    158 min   \n",
       "22994  2019-07-01          2018  tv-y7  2 seasons   \n",
       "22995  2019-11-01          2009      r     88 min   \n",
       "22996  2020-01-11          2006     pg     88 min   \n",
       "22997  2019-03-02          2015  tv-14    111 min   \n",
       "\n",
       "                                            listed_in  \\\n",
       "0                                       comedy, drama   \n",
       "1                                drama, international   \n",
       "2                             action, drama, suspense   \n",
       "3                                         documentary   \n",
       "4                                      drama, fantasy   \n",
       "...                                               ...   \n",
       "22993                  cult movies, dramas, thrillers   \n",
       "22994          kids' tv, korean tv shows, tv comedies   \n",
       "22995                         comedies, horror movies   \n",
       "22996              children & family movies, comedies   \n",
       "22997  dramas, international movies, music & musicals   \n",
       "\n",
       "                                             description  score      ID  \\\n",
       "0      a small fishing village must procure a local d...     99     as1   \n",
       "1      a metro family decides to fight a cyber crimin...     37     as2   \n",
       "2      after a man discovers his wife is cheating on ...     20     as3   \n",
       "3      pink breaks the mold once again, bringing her ...     27     as4   \n",
       "4      teenage matt banting wants to work with a famo...     75     as5   \n",
       "...                                                  ...    ...     ...   \n",
       "22993  a political cartoonist, a crime reporter and a...     20  ns8803   \n",
       "22994  while living alone in a spooky town, a young g...      8  ns8804   \n",
       "22995  looking to survive in a world taken over by zo...     55  ns8805   \n",
       "22996  dragged from civilian life, a former superhero...      7  ns8806   \n",
       "22997  a scrappy but poor boy worms his way into a ty...     44  ns8807   \n",
       "\n",
       "       duration_int duration_type  \n",
       "0             113.0           min  \n",
       "1             110.0           min  \n",
       "2              74.0           min  \n",
       "3              69.0           min  \n",
       "4              45.0           min  \n",
       "...             ...           ...  \n",
       "22993         158.0           min  \n",
       "22994           2.0        season  \n",
       "22995          88.0           min  \n",
       "22996          88.0           min  \n",
       "22997         111.0           min  \n",
       "\n",
       "[22998 rows x 16 columns]"
      ]
     },
     "execution_count": 6,
     "metadata": {},
     "output_type": "execute_result"
    }
   ],
   "source": [
    "#reviso que se haya cargado correctamente:\n",
    "df"
   ]
  },
  {
   "attachments": {},
   "cell_type": "markdown",
   "metadata": {},
   "source": [
    "---"
   ]
  },
  {
   "attachments": {},
   "cell_type": "markdown",
   "metadata": {},
   "source": [
    "ATENCION: todas estas prubas se hacen localmente."
   ]
  },
  {
   "attachments": {},
   "cell_type": "markdown",
   "metadata": {},
   "source": [
    "---"
   ]
  },
  {
   "attachments": {},
   "cell_type": "markdown",
   "metadata": {},
   "source": [
    "### Consigna - Queries objetivo"
   ]
  },
  {
   "attachments": {},
   "cell_type": "markdown",
   "metadata": {},
   "source": [
    "1- Cantidad de veces que aparece una keyword en el título de peliculas/series, por plataforma."
   ]
  },
  {
   "cell_type": "code",
   "execution_count": 11,
   "metadata": {},
   "outputs": [],
   "source": [
    "#Defino la función que ejecutará la query:\n",
    "def get_word_count(plataforma: str, keyword: str):\n",
    "    #Lectura de la base de datos:\n",
    "    df = pd.read_csv(\"movies_completo.csv\")\n",
    "\n",
    "    #Definición de las plataformas:\n",
    "    if plataforma == \"amazon\":\n",
    "        plat = \"a%\"\n",
    "    elif plataforma == \"disney\":\n",
    "        plat = \"d%\"\n",
    "    elif plataforma == \"hulu\":\n",
    "        plat = \"h%\"\n",
    "    elif plataforma == \"netflix\":\n",
    "        plat = \"n%\"\n",
    "    else:\n",
    "        return (\"Plataforma incorrecta. Las opciones son: amazon, disney, hulu, netflix. Recuerde escribir todo en minúsculas.\")\n",
    "    \n",
    "    #QUERY:\n",
    "    query = f\"SELECT COUNT(title) FROM df WHERE title LIKE '%{keyword}%' AND id LIKE '{plat}'\"\n",
    "    #Se guarda el resultado en una nueva variable, dándole el formato sql:\n",
    "    result = sqldf(query)\n",
    "    \n",
    "    #Se verifica el contenido de la variable. En caso de no estar vacío:\n",
    "    if not result.iloc[0,0] == 0:\n",
    "        return result.to_dict() #retorna los datos solicitados en la consulta, como un diccionario.\n",
    "    #Si la variable no tiene contenido:\n",
    "    else:\n",
    "        return (\"No se pudo encontrar la keyword solicitada.\")"
   ]
  },
  {
   "cell_type": "code",
   "execution_count": 12,
   "metadata": {},
   "outputs": [
    {
     "data": {
      "text/plain": [
       "{'COUNT(title)': {0: 196}}"
      ]
     },
     "execution_count": 12,
     "metadata": {},
     "output_type": "execute_result"
    }
   ],
   "source": [
    "#Reviso que la query funcione, con parametros de ejemplo:\n",
    "get_word_count(\"netflix\", \"love\")"
   ]
  },
  {
   "attachments": {},
   "cell_type": "markdown",
   "metadata": {},
   "source": [
    "2- Cantidad de películas por plataforma con un puntaje mayor a XX en determinado año."
   ]
  },
  {
   "cell_type": "code",
   "execution_count": 13,
   "metadata": {},
   "outputs": [],
   "source": [
    "def get_score_count(plataforma: str, puntaje: int, ano: int):\n",
    "    #Lectura de la base de datos:\n",
    "    df = pd.read_csv(\"movies_completo.csv\")\n",
    "    \n",
    "    #Defino las plataformas:\n",
    "    if plataforma == \"amazon\":\n",
    "        plat = \"a%\"\n",
    "    elif plataforma == \"disney\":\n",
    "        plat = \"d%\"\n",
    "    elif plataforma == \"hulu\":\n",
    "        plat = \"h%\"\n",
    "    elif plataforma == \"netflix\":\n",
    "        plat = \"n%\"\n",
    "    else:\n",
    "        return (\"Plataforma incorrecta. Las opciones son: amazon, disney, hulu, netflix. Recuerde escribir todo en minúsculas.\")\n",
    "    \n",
    "    #Fuerzo el cambio a str\n",
    "    puntaje = str(puntaje)\n",
    "    ano = str(ano)\n",
    "\n",
    "    #QUERY:\n",
    "    query = f\"SELECT COUNT(title) FROM df WHERE id LIKE '{plat}' AND type == 'movie' AND score > {puntaje} AND release_year == {ano}\"\n",
    "    #Se guarda el resultado en una nueva variable, dándole el formato sql:\n",
    "    result = sqldf(query)\n",
    "    \n",
    "    #Se verifica el contenido de la variable \"result\". En caso de no estar vacío:\n",
    "    if not result.iloc[0,0] == 0:\n",
    "        return result.to_dict() #retorna los datos solicitados en la consulta, como un diccionario.\n",
    "    #Si la variable no tiene contenido:\n",
    "    else:\n",
    "        return (\"No hay peliculas con ese puntaje, en ese año, en esta plataforma.\")"
   ]
  },
  {
   "cell_type": "code",
   "execution_count": 14,
   "metadata": {},
   "outputs": [
    {
     "data": {
      "text/plain": [
       "{'COUNT(title)': {0: 20}}"
      ]
     },
     "execution_count": 14,
     "metadata": {},
     "output_type": "execute_result"
    }
   ],
   "source": [
    "#Reviso que la query funcione, con parametros de ejemplo:\n",
    "get_score_count('netflix',85,2010)"
   ]
  },
  {
   "attachments": {},
   "cell_type": "markdown",
   "metadata": {},
   "source": [
    "3- La segunda película con mayor score para una plataforma determinada, según el orden alfabético de los títulos."
   ]
  },
  {
   "cell_type": "code",
   "execution_count": 15,
   "metadata": {},
   "outputs": [],
   "source": [
    "def get_second_score(plataforma: str):\n",
    "    #Lectura de la base de datos:\n",
    "    df = pd.read_csv(\"movies_completo.csv\")\n",
    "    \n",
    "    #Defino las plataformas:\n",
    "    if plataforma == \"amazon\":\n",
    "        plat = \"a%\"\n",
    "    elif plataforma == \"disney\":\n",
    "        plat = \"d%\"\n",
    "    elif plataforma == \"hulu\":\n",
    "        plat = \"h%\"\n",
    "    elif plataforma == \"netflix\":\n",
    "        plat = \"n%\"\n",
    "    else:\n",
    "        return (\"Plataforma incorrecta. Las opciones son: amazon, disney, hulu, netflix. Recuerde escribir todo en minúsculas.\")\n",
    "    \n",
    "    #QUERY:\n",
    "    query = f\"SELECT title FROM df WHERE id like '{plat}' and type=='movie' ORDER BY score DESC, title LIMIT 1 OFFSET 1\"\n",
    "    #Se guarda el resultado en una nueva variable, dándole el formato sql:\n",
    "    result = sqldf(query)\n",
    "\n",
    "    # Se verifica el contenido de la variable \"result\". En caso de no estar vacío:\n",
    "    if not result.iloc[0,0] == 0:\n",
    "        return result.to_dict() #retorna los datos solicitados en la consulta, como un diccionario.\n",
    "    #Si la variable no tiene contenido:\n",
    "    else:\n",
    "        return (\"No se han encontrado peliculas.\")"
   ]
  },
  {
   "cell_type": "code",
   "execution_count": 16,
   "metadata": {},
   "outputs": [
    {
     "data": {
      "text/plain": [
       "{'title': {0: 'abilene town'}}"
      ]
     },
     "execution_count": 16,
     "metadata": {},
     "output_type": "execute_result"
    }
   ],
   "source": [
    "#Reviso que la query funcione, con parametros de ejemplo:\n",
    "get_second_score(\"amazon\")"
   ]
  },
  {
   "attachments": {},
   "cell_type": "markdown",
   "metadata": {},
   "source": [
    "4- Película que más duró según año, plataforma y tipo de duración."
   ]
  },
  {
   "cell_type": "code",
   "execution_count": 17,
   "metadata": {},
   "outputs": [],
   "source": [
    "def get_longest(plataforma: str, duration_type: str, ano: int):\n",
    "    #Lectura de la base de datos:\n",
    "    df = pd.read_csv(\"movies_completo.csv\")\n",
    "\n",
    "    #Defino las plataformas:\n",
    "    if plataforma == \"amazon\":\n",
    "        plat = \"a%\"\n",
    "    elif plataforma == \"disney\":\n",
    "        plat = \"d%\"\n",
    "    elif plataforma == \"hulu\":\n",
    "        plat = \"h%\"\n",
    "    elif plataforma == \"netflix\":\n",
    "        plat = \"n%\"\n",
    "    else:\n",
    "        return (\"Plataforma incorrecta. Las opciones son: amazon, disney, hulu, netflix. Recuerde escribir todo en minúsculas.\")\n",
    "    \n",
    "    #QUERY:\n",
    "    query = f\"SELECT title, release_year, duration_int, duration_type FROM df WHERE id like '{plat}' and release_year='{ano}' and duration_type='{duration_type}' ORDER BY duration_int DESC LIMIT 1\"\n",
    "    #Se guarda el resultado en una nueva variable, dándole el formato sql:\n",
    "    result = sqldf(query)\n",
    "    \n",
    "    #Se verifica el contenido de la variable \"result\". En caso de no estar vacío:\n",
    "    if not result.iloc[0,0] == 0:\n",
    "        return result.to_dict() #retorna los datos solicitados en la consulta, como un diccionario.\n",
    "    #Si la variable no tiene contenido:\n",
    "    else:\n",
    "        return (\"No se han encontrado peliculas.\")"
   ]
  },
  {
   "cell_type": "code",
   "execution_count": 18,
   "metadata": {},
   "outputs": [
    {
     "data": {
      "text/plain": [
       "{'title': {0: 'sairat'},\n",
       " 'release_year': {0: 2016},\n",
       " 'duration_int': {0: 173.0},\n",
       " 'duration_type': {0: 'min'}}"
      ]
     },
     "execution_count": 18,
     "metadata": {},
     "output_type": "execute_result"
    }
   ],
   "source": [
    "#Reviso que la query funcione, con parametros de ejemplo:\n",
    "get_longest('netflix','min',2016)"
   ]
  },
  {
   "attachments": {},
   "cell_type": "markdown",
   "metadata": {},
   "source": [
    "5- Cantidad de series y películas por rating."
   ]
  },
  {
   "cell_type": "code",
   "execution_count": 19,
   "metadata": {},
   "outputs": [],
   "source": [
    "def get_rating_count(rating: object):\n",
    "    #Lectura de la base de datos:\n",
    "    df = pd.read_csv(\"movies_completo.csv\")\n",
    "\n",
    "    #QUERY:\n",
    "    query = f\"SELECT rating, count(*) as count FROM df WHERE rating = '{rating}' GROUP BY rating\"\n",
    "    #Se guarda el resultado en una nueva variable, dándole el formato sql:\n",
    "    result = sqldf(query)\n",
    "    \n",
    "    #Se verifica el contenido de la variable \"result\". En caso de no estar vacío:\n",
    "    if not result.iloc[0,0] == 0:\n",
    "        return result.to_dict() #retorna los datos solicitados en la consulta, como un diccionario.\n",
    "    #en caso de que no se encuentre el rating solicitado:\n",
    "    else:\n",
    "        return(\"No se ha encontrado ese rating.\")"
   ]
  },
  {
   "cell_type": "code",
   "execution_count": 20,
   "metadata": {},
   "outputs": [
    {
     "data": {
      "text/plain": [
       "{'rating': {0: '18+'}, 'count': {0: 1243}}"
      ]
     },
     "execution_count": 20,
     "metadata": {},
     "output_type": "execute_result"
    }
   ],
   "source": [
    "#Reviso que la query funcione, con parametros de ejemplo:\n",
    "get_rating_count('18+')"
   ]
  },
  {
   "attachments": {},
   "cell_type": "markdown",
   "metadata": {},
   "source": [
    "---"
   ]
  }
 ],
 "metadata": {
  "kernelspec": {
   "display_name": "Python 3",
   "language": "python",
   "name": "python3"
  },
  "language_info": {
   "codemirror_mode": {
    "name": "ipython",
    "version": 3
   },
   "file_extension": ".py",
   "mimetype": "text/x-python",
   "name": "python",
   "nbconvert_exporter": "python",
   "pygments_lexer": "ipython3",
   "version": "3.10.9"
  },
  "orig_nbformat": 4,
  "vscode": {
   "interpreter": {
    "hash": "aede9838c29d69ce6b598b7cc2904da6f01b3369fa6af2d4895c2504da873163"
   }
  }
 },
 "nbformat": 4,
 "nbformat_minor": 2
}
